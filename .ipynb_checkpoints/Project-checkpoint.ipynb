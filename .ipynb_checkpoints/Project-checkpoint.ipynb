{
 "cells": [
  {
   "cell_type": "code",
   "execution_count": 4,
   "id": "3cae9eb8-4172-48dd-a88c-30af96f5ea3a",
   "metadata": {},
   "outputs": [
    {
     "data": {
      "text/plain": [
       "'hello'"
      ]
     },
     "execution_count": 4,
     "metadata": {},
     "output_type": "execute_result"
    }
   ],
   "source": [
    "import pandas as pd\n",
    "import sklearn as sk\n",
    "\n",
    "x = \"hello\"\n",
    "\n",
    "\n"
   ]
  },
  {
   "cell_type": "code",
   "execution_count": 12,
   "id": "99739355-8d21-440d-a68d-ae16a5993b64",
   "metadata": {},
   "outputs": [
    {
     "ename": "SyntaxError",
     "evalue": "invalid syntax (3501888532.py, line 19)",
     "output_type": "error",
     "traceback": [
      "\u001b[1;36m  Cell \u001b[1;32mIn[12], line 19\u001b[1;36m\u001b[0m\n\u001b[1;33m    img.save(join(\"w\",img_path[0]+.jpg)\u001b[0m\n\u001b[1;37m                                  ^\u001b[0m\n\u001b[1;31mSyntaxError\u001b[0m\u001b[1;31m:\u001b[0m invalid syntax\n"
     ]
    }
   ],
   "source": [
    "import os, sys\n",
    "from os.path import join\n",
    "from PIL import Image\n",
    "\n",
    "\n",
    "Global_path = r'C:\\Users\\joshu\\OneDrive\\Documents\\LocalFiles'\n",
    "winnie = \"Unsorted lil bean\"\n",
    "colton = \"unsorted colton\"\n",
    "\n",
    "w = os.listdir(join(Global_path, winnie))\n",
    "\n",
    "c = os.listdir(join(Global_path, colton))\n",
    "\n",
    "for wPic,cPic in zip(w,c):\n",
    "    img_path = wPic.split(\".\")\n",
    "    if img_path[1] == \"AAE\":\n",
    "        continue\n",
    "    img = Image.open(wPic)\n",
    "    img.save(join(\"w\",img_path[0]+\".jpg\")\n",
    "    "
   ]
  },
  {
   "cell_type": "code",
   "execution_count": null,
   "id": "071b1c3c-f066-46e4-b5ca-80843c5e9172",
   "metadata": {},
   "outputs": [],
   "source": []
  }
 ],
 "metadata": {
  "kernelspec": {
   "display_name": "Python 3 (ipykernel)",
   "language": "python",
   "name": "python3"
  },
  "language_info": {
   "codemirror_mode": {
    "name": "ipython",
    "version": 3
   },
   "file_extension": ".py",
   "mimetype": "text/x-python",
   "name": "python",
   "nbconvert_exporter": "python",
   "pygments_lexer": "ipython3",
   "version": "3.9.5"
  }
 },
 "nbformat": 4,
 "nbformat_minor": 5
}
