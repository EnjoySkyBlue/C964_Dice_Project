{
 "cells": [
  {
   "cell_type": "code",
   "execution_count": 1,
   "id": "b37db74f-4221-4a1c-a6a2-78580640c5b8",
   "metadata": {},
   "outputs": [],
   "source": [
    "from tensorflow.keras.models import load_model\n",
    "from tensorflow.keras.utils import load_img, img_to_array\n",
    "from tensorflow.keras.preprocessing import image\n",
    "import tensorflow as tf\n",
    "from os.path import join\n",
    "import os\n",
    "import numpy as np\n",
    "import pandas as pd\n",
    "import matplotlib.pyplot as plt\n",
    "import matplotlib.image as mpimg\n",
    "from IPython.display import HTML\n",
    "\n",
    "from PIL import Image as pImage, ImageOps, ExifTags\n",
    "from ipyfilechooser import FileChooser\n",
    "\n",
    "import ipywidgets as widgets"
   ]
  },
  {
   "cell_type": "code",
   "execution_count": 2,
   "id": "17e549dc-9262-4bd5-861f-7b10bce6e2ef",
   "metadata": {},
   "outputs": [],
   "source": [
    "# Globals\n",
    "MODEL_PATH = \"dice_type_classification1.keras\"\n",
    "model_classes =[\"d4\",\"d6\",\"d8\",\"d10\",\"d12\",\"d20\"]\n",
    "\n",
    "model = model = tf.keras.models.load_model(join(\"models\",MODEL_PATH))"
   ]
  },
  {
   "cell_type": "code",
   "execution_count": 3,
   "id": "a6ebc64f-1c84-42bf-8e35-25c755825e64",
   "metadata": {},
   "outputs": [],
   "source": [
    "def load_image_to_input(image_path):\n",
    "    with pImage.open(image_path) as img:\n",
    "        file_name = image_path.split(\"\\\\\")[-1]\n",
    "    \n",
    "        img = ImageOps.exif_transpose(img)\n",
    "    \n",
    "        #Zoom in on the image assuming the dice is in the middle\n",
    "        width, height = img.size\n",
    "        crop_width = width // 1.5\n",
    "        crop_height = height // 1.5\n",
    "        left = (width - crop_width) // 2\n",
    "        top = (height - crop_height) // 2\n",
    "        right = left + crop_width\n",
    "        bottom = top + crop_height\n",
    "        crop_box = (left, top, right, bottom)\n",
    "        cropped_img = img.crop(crop_box)\n",
    "\n",
    "        # Resize image for training\n",
    "        resized_image = cropped_img.resize((448,448))\n",
    "        version = 0\n",
    "        og_filename, ext = file_name.split(\".\")\n",
    "        \n",
    "        while os.path.isfile(join(\"input\",file_name)):\n",
    "            version +=1\n",
    "            file_name = og_filename +\"(\"+ str(version) + \").\"+ext\n",
    "            \n",
    "        resized_image.save(join(\"input\",file_name))\n",
    "        return file_name\n",
    "\n",
    "    "
   ]
  },
  {
   "cell_type": "code",
   "execution_count": 123,
   "id": "53e5906d-8756-4adb-896a-a300a541d8e7",
   "metadata": {},
   "outputs": [],
   "source": [
    "def predict_dice(image_array, model = model):\n",
    "\n",
    "    predictions = model.predict(image_array)\n",
    "    predicted_class = np.argmax(predictions, axis=1)\n",
    "    predicted_class_index = np.argmax(predictions, axis=1)\n",
    "    \n",
    "    predicted_class_name = model_classes[predicted_class[0]]\n",
    "    \n",
    "    confidence = predictions[0][predicted_class_index[0]] * 100\n",
    "    print(f\"Predicted class index: {predicted_class}\\n Predicted label: {model_classes[predicted_class[0]]}\\n Confidence: {confidence:.2f}%\")\n",
    "    \n"
   ]
  },
  {
   "cell_type": "code",
   "execution_count": 203,
   "id": "7763d431-4e69-4156-9a0c-1093733bde88",
   "metadata": {},
   "outputs": [],
   "source": [
    "def show_predictions(image_path_list):\n",
    "    for img_p in image_path_list:\n",
    "    \n",
    "        img = image.load_img(img_p, target_size=(448, 448))\n",
    "        img_array = image.img_to_array(img)\n",
    "        img_array = np.expand_dims(img_array, axis=0)\n",
    "        img_array = tf.keras.applications.vgg16.preprocess_input(img_array)\n",
    "        \n",
    "        print(str(img_p).split(\"\\\\\")[-1])\n",
    "        predict_dice(img_array)\n",
    "\n",
    "    "
   ]
  },
  {
   "cell_type": "code",
   "execution_count": 204,
   "id": "23717abb-571d-4a7d-84ae-3e05b7e65435",
   "metadata": {},
   "outputs": [],
   "source": [
    "images_chosen = [\n",
    "    join(\"data\",\"dicetype\",\"d4\",\"d4_angle_color031.jpg\"),\n",
    "    join(\"data\",\"dicetype\",\"d6\",\"d6_45angle_0136.jpg\"),\n",
    "    join(\"data\",\"dicetype\",\"d10\",\"d10_color129.jpg\"),\n",
    "    join(\"data\",\"dice\",\"20\",\"IMG_9763.jpg\")\n",
    "]\n",
    "\n",
    "# show_predictions(images_chosen)\n"
   ]
  },
  {
   "cell_type": "code",
   "execution_count": 205,
   "id": "8def6d64-334f-431a-875b-00eb071c401a",
   "metadata": {},
   "outputs": [],
   "source": [
    "def show_image(image_path):\n",
    "    if image_path == None:\n",
    "        return widgets.Label(\"No image selected\")\n",
    "        \n",
    "    img = pImage.open(image_path)\n",
    "    \n",
    "    # Correct orientation based on EXIF data if rotated\n",
    "    if hasattr(img, '_getexif'):\n",
    "        exif = img._getexif()\n",
    "        if exif is not None:\n",
    "            for orientation in ExifTags.TAGS.keys():\n",
    "                if ExifTags.TAGS[orientation] == 'Orientation':\n",
    "                    break\n",
    "            if orientation in exif:\n",
    "                if exif[orientation] == 3:\n",
    "                    img = img.rotate(180, expand=True)\n",
    "                elif exif[orientation] == 6:\n",
    "                    img = img.rotate(270, expand=True)\n",
    "                elif exif[orientation] == 8:\n",
    "                    img = img.rotate(90, expand=True)\n",
    "\n",
    "    \n",
    "    # Read and display the image\n",
    "    # # img = mpimg.imread(img)\n",
    "    plt.figure(figsize=(5,5))\n",
    "    plt.imshow(img)\n",
    "    plt.axis('off')\n",
    "    plt.show()"
   ]
  },
  {
   "cell_type": "code",
   "execution_count": 213,
   "id": "4a850a0e-c210-45c8-866f-a9e53a7ff6b1",
   "metadata": {},
   "outputs": [],
   "source": [
    "# Widgets\n",
    "\n",
    "header = widgets.HTML(\"<h1 style='text-align: center; background-color: lightgrey; height: 80px;'>Dice Classification</h1>\", \n",
    "                      layout = widgets.Layout(width=\"100%\", height=\"80px\"))\n",
    "header_box = widgets.HBox([header], layout=widgets.Layout(align_items='center', justify_content='center', width=\"100%\"))\n",
    "\n",
    "file_choose = FileChooser(\"./data\", layout = widgets.Layout(height=\"auto\", width=\"100%\", border=\"2px solid red\"))\n",
    "file_choose.layout.overflow = 'hidden'\n",
    "\n",
    "image_output = widgets.Output(layout = widgets.Layout(height=\"auto\", width=\"100%\", border=\"2px solid red\"))\n",
    "image_output.layout.overflow = 'hidden'\n",
    "\n",
    "prediction_output = widgets.Output(layout = widgets.Layout(height=\"auto\", width=\"100%\", border=\"2px solid red\"))\n",
    "\n",
    "vbtn1 = widgets.Button(description=\"Confusion Matrix\",\n",
    "                    layout=widgets.Layout(width=\"100%\", height=\"auto\", margin=\"10px\"), button_style=\"info\")\n",
    "vbtn2 = widgets.Button(description=\"Model Layers\",\n",
    "                    layout=widgets.Layout(width=\"100%\", height=\"auto\", margin=\"10px\"), button_style=\"info\")\n",
    "vbtn3 = widgets.Button(description=\"Visual 3\",\n",
    "                    layout=widgets.Layout(width=\"100%\", height=\"auto\", margin=\"10px\"), button_style=\"info\")\n",
    "vbtn1.on_click(lambda x: change_visual_content(1))\n",
    "vbtn2.on_click(lambda x: change_visual_content(2))\n",
    "vbtn3.on_click(lambda x: change_visual_content(3))\n",
    "\n",
    "visual_buttons = widgets.HBox([vbtn1, vbtn2, vbtn3], layout=widgets.Layout(align_items='center', justify_content='center', width=\"100%\"))\n",
    "\n",
    "visual1 = widgets.Image()\n",
    "visual2 = widgets.Output()\n",
    "visual3 = widgets.Image()\n",
    "\n",
    "with visual2:\n",
    "    model.summary()\n",
    "\n",
    "with open(join(\"assets\",\"Confusion Matrix.png\"), \"rb\") as f:\n",
    "    visual1.value = f.read()\n",
    "\n",
    "\n",
    "content1 = widgets.HTML(\"<div>Test1</div>\")\n",
    "content2 = widgets.HTML(\"<div>Test2</div>\")\n",
    "content3 = widgets.HTML(\"<div>Test3</div>\")\n",
    "\n",
    "visual1.layout = widgets.Layout(width=\"50%\")\n",
    "visual2.layout = widgets.Layout(width=\"60%\")\n",
    "visual3.layout = widgets.Layout(width=\"50%\")\n",
    "\n",
    "content1.layout = widgets.Layout(width=\"50%\")\n",
    "content2.layout = widgets.Layout(width=\"40%\")\n",
    "content3.layout = widgets.Layout(width=\"50%\")\n",
    "\n",
    "visual_box1 = widgets.HBox([visual1,content1], layout = widgets.Layout(height=\"auto\", width=\"100%\", border=\"2px solid red\"))\n",
    "visual_box2 = widgets.HBox([visual2,content2], layout = widgets.Layout(height=\"auto\", width=\"100%\", border=\"2px solid blue\"))\n",
    "visual_box3 = widgets.HBox([visual3,content3], layout = widgets.Layout(height=\"auto\", width=\"100%\", border=\"2px solid green\"))\n",
    "\n",
    "visual_box_output = widgets.Output(layout = widgets.Layout(height=\"auto\", width=\"100%\", border=\"2px solid red\"))\n",
    "\n",
    "# image_box = widgets.HBox([image_output], layout=widgets.Layout(height=\"400px\"))"
   ]
  },
  {
   "cell_type": "code",
   "execution_count": 207,
   "id": "5e3cf4ca-36a1-40f2-9b02-9f771cf9066f",
   "metadata": {},
   "outputs": [],
   "source": [
    "def update_prediction(file_path):\n",
    "    prediction_output.clear_output()\n",
    "\n",
    "    with prediction_output:\n",
    "        show_predictions([file_choose.selected])"
   ]
  },
  {
   "cell_type": "code",
   "execution_count": 208,
   "id": "4a042ffb-3dc8-4ad6-94a3-21e95aaeebc0",
   "metadata": {},
   "outputs": [],
   "source": [
    "def on_file_selected(change):\n",
    "    # Clear previous output\n",
    "    image_output.clear_output()\n",
    "    with image_output:\n",
    "        # Show the selected image\n",
    "        show_image(file_choose.selected)\n",
    "    update_prediction(file_choose.selected)\n",
    "    \n",
    "file_choose.register_callback(on_file_selected)"
   ]
  },
  {
   "cell_type": "code",
   "execution_count": 209,
   "id": "7b362f03-5926-45e7-b253-bdca70210d33",
   "metadata": {},
   "outputs": [],
   "source": [
    "def change_visual_content(content_num):\n",
    "    visual_box_output.clear_output()\n",
    "\n",
    "    with visual_box_output:\n",
    "        if content_num == 1:\n",
    "            display(visual_box1)\n",
    "        elif content_num == 2:\n",
    "            display(visual_box2)\n",
    "        else:\n",
    "            display(visual_box3)\n",
    "    "
   ]
  },
  {
   "cell_type": "code",
   "execution_count": 214,
   "id": "4394bf0b-836e-4d52-802e-548447ff0cce",
   "metadata": {
    "scrolled": true
   },
   "outputs": [
    {
     "data": {
      "application/vnd.jupyter.widget-view+json": {
       "model_id": "5d3582815fdf453dbff9b58c914488de",
       "version_major": 2,
       "version_minor": 0
      },
      "text/plain": [
       "VBox(children=(HBox(children=(HTML(value=\"<h1 style='text-align: center; background-color: lightgrey; height: …"
      ]
     },
     "execution_count": 214,
     "metadata": {},
     "output_type": "execute_result"
    }
   ],
   "source": [
    "page = widgets.VBox([header_box, widgets.HBox([file_choose, image_output, prediction_output]), visual_buttons, visual_box_output])\n",
    "page\n",
    "# image_grid"
   ]
  },
  {
   "cell_type": "code",
   "execution_count": 110,
   "id": "8fc06662-7a73-4a92-9201-406fdd080f21",
   "metadata": {},
   "outputs": [
    {
     "data": {
      "text/plain": [
       "'C:\\\\Users\\\\joshu\\\\OneDrive\\\\Documents\\\\Dev\\\\Jupyter\\\\data\\\\dice\\\\11\\\\IMG_0209.JPG'"
      ]
     },
     "execution_count": 110,
     "metadata": {},
     "output_type": "execute_result"
    }
   ],
   "source": [
    "file_choose.selected"
   ]
  },
  {
   "cell_type": "code",
   "execution_count": null,
   "id": "2d051211-1083-40fa-8954-6dfcb44f3899",
   "metadata": {},
   "outputs": [],
   "source": []
  }
 ],
 "metadata": {
  "kernelspec": {
   "display_name": "Python 3 (ipykernel)",
   "language": "python",
   "name": "python3"
  },
  "language_info": {
   "codemirror_mode": {
    "name": "ipython",
    "version": 3
   },
   "file_extension": ".py",
   "mimetype": "text/x-python",
   "name": "python",
   "nbconvert_exporter": "python",
   "pygments_lexer": "ipython3",
   "version": "3.9.5"
  }
 },
 "nbformat": 4,
 "nbformat_minor": 5
}
